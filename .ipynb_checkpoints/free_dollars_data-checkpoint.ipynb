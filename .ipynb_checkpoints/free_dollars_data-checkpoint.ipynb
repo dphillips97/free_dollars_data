{
 "cells": [
  {
   "cell_type": "markdown",
   "metadata": {},
   "source": [
    "# Open Source Geospatial data that costs free dollars\n",
    "*Free data sources, mostly geospatial*"
   ]
  },
  {
   "cell_type": "markdown",
   "metadata": {},
   "source": [
    "### Here is a change"
   ]
  },
  {
   "cell_type": "markdown",
   "metadata": {},
   "source": [
    "### Aerial/Satellite Imagery\n",
    "- [7 Free Sat Imagery Sources (2019)](https://eos.com/blog/7-top-free-satellite-imagery-sources-in-2019/)"
   ]
  },
  {
   "cell_type": "markdown",
   "metadata": {},
   "source": [
    "### Energy Data\n",
    "\n",
    "- [U.S. State Energy Info](https://www.eia.gov/maps/layer_info-m.php)"
   ]
  },
  {
   "cell_type": "markdown",
   "metadata": {},
   "source": [
    "### Climate Data\n",
    "- [NOAA historical climate data](https://www.ncdc.noaa.gov/cdo-web/search)\n",
    "- [Remote Automatic Weather Stations (RAWS) of the USA](https://raws.dri.edu/index.html)"
   ]
  },
  {
   "cell_type": "markdown",
   "metadata": {},
   "source": [
    "### Topo Data\n",
    "- [List of Resources from Carleton College](https://serc.carleton.edu/NAGTWorkshops/gis/topographic_data.html)\n",
    "- [GISGeography's DEM Sources](https://gisgeography.com/free-global-dem-data-sources/)"
   ]
  },
  {
   "cell_type": "markdown",
   "metadata": {},
   "source": [
    "### Socioeconomic Data\n",
    "- [Socioeconomic Data and Applications Center](https://sedac.ciesin.columbia.edu/)\n",
    "- [Perry-Castaneda Map Collection at UT Austin](http://legacy.lib.utexas.edu/maps/)"
   ]
  },
  {
   "cell_type": "markdown",
   "metadata": {},
   "source": [
    "### Admin Areas and Boundaries\n",
    "- [World Administrative Areas](https://www.gadm.org/data.html)\n",
    "- [U.N. Second Admin. Level Boundaries](https://www.unsalb.org/)\n",
    "- [World Borders Dataset - kml based, has JS API](http://thematicmapping.org/downloads/world_borders.php)\n",
    "- [Military Grid Reference Systems](https://earth-info.nga.mil/GandG/update/index.php?dir=coordsys&action=coordsys#tab_grid-layers-data)"
   ]
  },
  {
   "cell_type": "markdown",
   "metadata": {},
   "source": [
    "### Multi-Feature\n",
    "- [Natural Earth](https://www.naturalearthdata.com/)"
   ]
  },
  {
   "cell_type": "markdown",
   "metadata": {},
   "source": [
    "### Environmental and Natural Resource Data\n",
    "- [USDA's geospatial data gateway](https://gdg.sc.egov.usda.gov/GDGHome.aspx)\n",
    "- [U.S. Fish and Wildlife Service Catalog](https://ecos.fws.gov/ServCat/)\n",
    "- [Bureau of Land Management](https://www.blm.gov/services/geospatial/GISData)\n",
    "- [National Hydrology Dataset Info](https://nhd.usgs.gov/userGuide/Robohelpfiles/NHD_User_Guide/Feature_Catalog/NHD_Feature_Catalog.htm)\n",
    "- [U.S. Environmental Protection Agency Open Data Catalog](https://edg.epa.gov/metadata/catalog/main/home.page)"
   ]
  },
  {
   "cell_type": "markdown",
   "metadata": {},
   "source": [
    "### Location-Specific\n",
    "\n",
    "#### Colorado\n",
    "- [Colorado's Decision Support Systems](https://www.colorado.gov/cdss)\n",
    "\n",
    "#### Texas\n",
    "- [Texas Natural Resources Information System](https://data.tnris.org/)"
   ]
  },
  {
   "cell_type": "markdown",
   "metadata": {},
   "source": [
    "### Diagrams\n",
    "![U.S. Watershed Hierarchy](wbd.png)"
   ]
  },
  {
   "cell_type": "code",
   "execution_count": null,
   "metadata": {},
   "outputs": [],
   "source": []
  }
 ],
 "metadata": {
  "kernelspec": {
   "display_name": "Python 3",
   "language": "python",
   "name": "python3"
  },
  "language_info": {
   "codemirror_mode": {
    "name": "ipython",
    "version": 3
   },
   "file_extension": ".py",
   "mimetype": "text/x-python",
   "name": "python",
   "nbconvert_exporter": "python",
   "pygments_lexer": "ipython3",
   "version": "3.7.3"
  }
 },
 "nbformat": 4,
 "nbformat_minor": 2
}
